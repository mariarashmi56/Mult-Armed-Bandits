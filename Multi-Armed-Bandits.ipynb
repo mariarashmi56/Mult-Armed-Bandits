{
 "cells": [
  {
   "cell_type": "markdown",
   "metadata": {},
   "source": [
    "# COMP90051 Project 2"
   ]
  },
  {
   "cell_type": "code",
   "execution_count": 1,
   "metadata": {},
   "outputs": [],
   "source": [
    "# Do not edit. These are the only imports permitted.\n",
    "%matplotlib inline\n",
    "import numpy as np\n",
    "from numpy.linalg import inv\n",
    "import matplotlib.pyplot as plt\n",
    "from abc import ABC, abstractmethod\n",
    "\n",
    "\n"
   ]
  },
  {
   "cell_type": "markdown",
   "metadata": {},
   "source": [
    "## 1. Implementing ε-Greedy and UCB"
   ]
  },
  {
   "cell_type": "code",
   "execution_count": 2,
   "metadata": {},
   "outputs": [],
   "source": [
    "class MAB(ABC):\n",
    "    \"\"\"\n",
    "    Abstract class that represents a multi-armed bandit (MAB)\n",
    "    \"\"\"\n",
    "    \n",
    "    @abstractmethod\n",
    "    def play(self, tround, context):\n",
    "        \"\"\"\n",
    "        Play a round\n",
    "        \n",
    "        Arguments\n",
    "        =========\n",
    "        tround : int\n",
    "            positive integer identifying the round\n",
    "        \n",
    "        context : 1D float array, shape (self.ndims * self.narms), optional\n",
    "            context given to the arms\n",
    "        \n",
    "        Returns\n",
    "        =======\n",
    "        arm : int\n",
    "            the positive integer arm id for this round\n",
    "        \"\"\"\n",
    "    \n",
    "    @abstractmethod\n",
    "    def update(self, arm, reward, context):\n",
    "        \"\"\"\n",
    "        Updates the internal state of the MAB after a play\n",
    "        \n",
    "        Arguments\n",
    "        =========\n",
    "        arm : int\n",
    "            a positive integer arm id in {1, ..., self.narms}\n",
    "        \n",
    "        reward : float\n",
    "            reward received from arm\n",
    "        \n",
    "        context : 1D float array, shape (self.ndims * self.narms), optional\n",
    "            context given to arms\n",
    "        \"\"\""
   ]
  },
  {
   "cell_type": "code",
   "execution_count": 1410,
   "metadata": {},
   "outputs": [],
   "source": [
    "class EpsGreedy(MAB):\n",
    "    \"\"\"\n",
    "    Epsilon-Greedy multi-armed bandit\n",
    "\n",
    "    Arguments\n",
    "    =========\n",
    "    narms : int\n",
    "        number of arms\n",
    "\n",
    "    epsilon : float\n",
    "        explore probability\n",
    "\n",
    "    Q0 : float, optional\n",
    "        initial value for the arms\n",
    "    \"\"\"\n",
    "    \n",
    "    def __init__(self, narms, epsilon, Q0=np.inf):\n",
    "    \n",
    "    #Input type and value check              \n",
    "        if not isinstance(narms,int):\n",
    "            raise TypeError(\"narms should be int\")\n",
    "        elif narms < 0:\n",
    "            raise ValueError(\"narms should be 0 or positive\")\n",
    "            \n",
    "        if not isinstance(epsilon,float):\n",
    "            raise TypeError(\"epsilon should be float\")\n",
    "        elif  epsilon < 0 or epsilon > 1:\n",
    "            raise ValueError(\"epsilon should be between 0 and 1\")\n",
    "        \n",
    "        if not isinstance(Q0,float):\n",
    "            raise TypeError(\"Q0 should be float\")        \n",
    "              \n",
    "    #Initialisation of variables \n",
    "        self.epsilon = epsilon \n",
    "        self.narms = narms\n",
    "        self.Q0 =Q0   \n",
    "        self.arm_count = np.zeros(narms) \n",
    "        self.q_value = np.repeat(self.Q0,narms) ### Initialize Qvalues with Q0 infinity\n",
    "        self.reward = np.zeros(narms)\n",
    "        \n",
    "    def play(self, tround, context=None):   \n",
    "    #Select an arm to play based on epsilon value- Explore,Exploit \n",
    "    \n",
    "            e = np.random.rand() \n",
    "            if e < self.epsilon:\n",
    "                arm = np.random.randint(self.narms) # Select random arm if e < epsilon-Explore!\n",
    "               \n",
    "            else:\n",
    "                max_arm = np.argwhere(self.q_value == np.amax(self.q_value))  #Select arm with max expected reward-Exploit!         \n",
    "                arm = np.random.choice(max_arm.flatten().tolist())\n",
    "                \n",
    "            return arm\n",
    "        \n",
    "        \n",
    "    def update(self, arm, reward, context=None):      \n",
    "    #If arm is matched with log file-update reward,count and qvalue of the arm\n",
    "    \n",
    "        self.reward[arm] = self.reward[arm] + reward  \n",
    "        self.arm_count[arm] += 1 \n",
    "        self.q_value[arm] = self.reward[arm]/(self.arm_count[arm]) \n",
    "       \n",
    "        \n",
    "        \n",
    "\n"
   ]
  },
  {
   "cell_type": "code",
   "execution_count": 1705,
   "metadata": {},
   "outputs": [],
   "source": [
    "class UCB(MAB):\n",
    "    \"\"\"\n",
    "    Upper Confidence Bound (UCB) multi-armed bandit\n",
    "\n",
    "    Arguments\n",
    "    =========\n",
    "    narms : int\n",
    "        number of arms\n",
    "\n",
    "    rho : float\n",
    "        positive real explore-exploit parameter\n",
    "\n",
    "    Q0 : float, optional\n",
    "        initial value for the arms\n",
    "    \"\"\"\n",
    "    \n",
    "    def __init__(self, narms, rho, Q0=np.inf):\n",
    "      \n",
    "    #Input type and value check\n",
    "        if not isinstance(narms,int):\n",
    "            raise TypeError(\"narms should be int\")\n",
    "        elif narms < 0:\n",
    "            raise ValueError(\"narms should be 0 or positive\")\n",
    "            \n",
    "        if not isinstance(rho,float):\n",
    "            raise TypeError(\"rho should be float\")\n",
    "        elif  rho <= 0:\n",
    "            raise ValueError(\"rho should be positive real\")\n",
    "        \n",
    "        if not isinstance(Q0,float):\n",
    "            raise TypeError(\"Q0 should be float\")\n",
    "  \n",
    "    #Initialisation of variables\n",
    "        self.narms = narms\n",
    "        self.rho = rho\n",
    "        self.Q0 =Q0\n",
    "        self.arm_count = np.zeros(self.narms)\n",
    "        self.q_value =  np.repeat(Q0,self.narms)\n",
    "        self.mean= np.zeros(self.narms)\n",
    "        self.reward = np.zeros(self.narms)\n",
    "          \n",
    "        \n",
    "    def play(self, tround, context=None):     \n",
    "      #Calculate qvalue for each arm and play arm with max qvalue   \n",
    "\n",
    "        for arm in range(self.narms):\n",
    "            \n",
    "            if self.arm_count[arm] > 0:\n",
    "                self.mean[arm] = self.reward[arm]/(self.arm_count[arm]) #Expected rewards of each arm-used to exploit\n",
    "                explore_boost = np.sqrt(self.rho*np.log(tround)/self.arm_count[arm]) #Explore boost- used to explore\n",
    "                self.q_value[arm] = self.mean[arm] + explore_boost #Balance between explore and exploit for each arm \n",
    "            else:\n",
    "                self.q_value[arm] = self.Q0 #use Q0 until arm has been pulled\n",
    "        \n",
    "        #Explore those arms with max explore boost, Exploit arms with max rewards\n",
    "        max_arm = np.argwhere(self.q_value == np.amax(self.q_value))  \n",
    "        arm = np.random.choice(max_arm.flatten().tolist())      \n",
    "        return arm\n",
    "    \n",
    "    \n",
    "    def update(self, arm, reward, context=None):        \n",
    "     #Update reward and count of matched arm\n",
    "\n",
    "        self.reward[arm] = self.reward[arm]+reward\n",
    "        self.arm_count[arm] += 1 \n",
    "        \n",
    "                 \n",
    "        \n",
    "        \n",
    "        \n",
    "\n",
    "    "
   ]
  },
  {
   "cell_type": "markdown",
   "metadata": {},
   "source": [
    "## 2. The Basic Thompson Bandit"
   ]
  },
  {
   "cell_type": "code",
   "execution_count": 1703,
   "metadata": {},
   "outputs": [],
   "source": [
    "class BetaThompson(MAB):\n",
    "    \"\"\"\n",
    "    Beta-Bernoulli Thompson sampling multi-armed bandit\n",
    "\n",
    "    Arguments\n",
    "    =========\n",
    "    narms : int\n",
    "        number of arms\n",
    "\n",
    "    alpha0 : float, optional\n",
    "        positive real prior hyperparameter\n",
    "\n",
    "    beta0 : float, optional\n",
    "        positive real prior hyperparameter\n",
    "    \"\"\"\n",
    "    \n",
    "    def __init__(self, narms, alpha0=1.0, beta0=1.0):\n",
    "        \n",
    "    #Input type and value check   \n",
    "        if not isinstance(narms,int):\n",
    "            raise TypeError(\"narms should be int\")\n",
    "        elif narms < 0:\n",
    "            raise ValueError(\"narms should be 0 or positive\")\n",
    "            \n",
    "        if not isinstance(alpha0,float): \n",
    "            raise TypeError(\"alpha0 should be float\")\n",
    "        elif   alpha0 <= 0:\n",
    "            raise ValueError(\"alpha0 should be positive real\")\n",
    "            \n",
    "        if not isinstance(beta0,float): \n",
    "            raise TypeError(\"beta0 should be float\")\n",
    "        elif   beta0 <= 0:\n",
    "            raise ValueError(\"beta0 should be positive real\")\n",
    "\n",
    "    #Initialisation of parameters\n",
    "        self.alpha = alpha0\n",
    "        self.beta = beta0\n",
    "        self.narms = narms\n",
    "        self.success = np.zeros(self.narms)\n",
    "        self.failure = np.zeros(self.narms)\n",
    "                        \n",
    "    \n",
    "    def play(self, tround, context=None):\n",
    "        \n",
    "    ## Play an arm with max prior beta probability\n",
    "            thetas = []\n",
    "            for arm in range(self.narms):\n",
    "                theta = np.random.beta(self.success[arm]+self.alpha,self.failure[arm]+self.beta) # Randomly sample means from prior beta for each arm\n",
    "                thetas.append(theta)\n",
    "            max_theta = np.amax(thetas) \n",
    "            max_arm = np.argwhere(thetas == max_theta) #Select arm with max prior probability\n",
    "            \n",
    "            #Randomly choosing between arms with maximum prior probability\n",
    "            max_arm = np.random.choice(max_arm.flatten().tolist()) \n",
    " \n",
    "            return max_arm\n",
    "\n",
    "    def update(self, arm, reward, context=None):\n",
    "        \n",
    "    #Update posterior probability based on reward\n",
    "        if reward == 1:\n",
    "            self.success[arm] += 1\n",
    "        else:\n",
    "            self.failure[arm] += 1\n",
    "\n",
    "    \n",
    "\n",
    "\n",
    "    "
   ]
  },
  {
   "cell_type": "markdown",
   "metadata": {},
   "source": [
    "## 3. Off-Policy Evaluation"
   ]
  },
  {
   "cell_type": "code",
   "execution_count": 1684,
   "metadata": {},
   "outputs": [],
   "source": [
    "def offlineEvaluate(mab, arms, rewards, contexts, nrounds=None):\n",
    "    \"\"\"\n",
    "    Offline evaluation of a multi-armed bandit\n",
    "    \n",
    "    Arguments\n",
    "    =========\n",
    "    mab : instance of MAB\n",
    "    \n",
    "    arms : 1D int array, shape (nevents,) \n",
    "        integer arm id for each event\n",
    "    \n",
    "    rewards : 1D float array, shape (nevents,)\n",
    "        reward received for each event\n",
    "    \n",
    "    contexts : 2D float array, shape (nevents, mab.narms*nfeatures)\n",
    "        contexts presented to the arms (stacked horizontally) \n",
    "        for each event.\n",
    "        \n",
    "    nrounds : int, optional\n",
    "        number of matching events to evaluate `mab` on.\n",
    "    \n",
    "    Returns\n",
    "    =======\n",
    "    out : 1D float array\n",
    "        rewards for the matching events\n",
    "    \"\"\" \n",
    "    \n",
    "#Input type check\n",
    "    if  not isinstance(mab,(EpsGreedy,UCB,BetaThompson,LinUCB,LinThompson)): \n",
    "        raise TypeError(\"mab does not belong to EpsGreedy, UCB, BetaThompson, LinUCB or LinThompson\")\n",
    "\n",
    "    if not isinstance(arms,np.ndarray) and not arms.ndim == 1:\n",
    "        raise TypeError(\"arms is not 1D array\")\n",
    "\n",
    "    \n",
    "    if not isinstance(rewards,np.ndarray) and not rewards.ndim == 1:\n",
    "        raise TypeError(\"rewards is not 1D array\")\n",
    "\n",
    "            \n",
    "    if not isinstance(contexts,np.ndarray) and not contexts.ndim == 2:\n",
    "        raise TypeError(\"contexts is not 2D array\")\n",
    "\n",
    "#Initialisation of variables\n",
    "    history = [] \n",
    "    index = 0\n",
    "    nevents = len(arms)\n",
    "    \n",
    "    for t in range(nrounds) :      \n",
    "        t_1 = len(history) + 1   #Call bandit with t-1 rounds\n",
    "        while(index < nevents): #Iterate until arm is matched\n",
    "            \n",
    "            bandit_arm = mab.play(t_1,contexts[index].reshape((contexts.shape[1],1))) #Play arm from bandit\n",
    "            \n",
    "            if bandit_arm+1 == arms[index]: #Check if bandit arm equals log file arm; bandit_arm+1 because arm should be positive int  \n",
    "                break                       #if true-Update history\n",
    "            index += 1                      #if false-get next event of log file\n",
    "        mab.update(bandit_arm,rewards[index],contexts[index].reshape((contexts.shape[1],1)))\n",
    "        history.append((t_1,arms[index],rewards[index],contexts[index])) \n",
    "        index += 1        #If match occurs, break while loop and get next event of log file\n",
    "  \n",
    "    results = [reward for _,_,reward,_ in history] #evaluate the rewards of the bandits\n",
    "    \n",
    "    return results "
   ]
  },
  {
   "cell_type": "code",
   "execution_count": 1674,
   "metadata": {},
   "outputs": [],
   "source": [
    "#Read log file to evaluate bandits\n",
    "arms =   np.loadtxt(r\"C:\\Users\\maria\\Desktop\\ML\\Project 2\\dataset.txt\",usecols=0,dtype=int,ndmin=1)\n",
    "rewards = np.loadtxt(r\"C:\\Users\\maria\\Desktop\\ML\\Project 2\\dataset.txt\",usecols=1,dtype=float,ndmin=1)\n",
    "contexts = np.loadtxt(r\"C:\\Users\\maria\\Desktop\\ML\\Project 2\\dataset.txt\",usecols=np.arange(2,102),dtype=float,ndmin=2)"
   ]
  },
  {
   "cell_type": "code",
   "execution_count": 1675,
   "metadata": {},
   "outputs": [
    {
     "name": "stdout",
     "output_type": "stream",
     "text": [
      "EpsGreedy average reward 0.26375\n"
     ]
    }
   ],
   "source": [
    "mab = EpsGreedy(10, 0.05)\n",
    "results_EpsGreedy = offlineEvaluate(mab, arms, rewards, contexts, 800)\n",
    "print('EpsGreedy average reward', np.mean(results_EpsGreedy))"
   ]
  },
  {
   "cell_type": "code",
   "execution_count": 1706,
   "metadata": {},
   "outputs": [
    {
     "name": "stdout",
     "output_type": "stream",
     "text": [
      "UCB average reward 0.1625\n"
     ]
    }
   ],
   "source": [
    "mab = UCB(10, 1.0)\n",
    "results_UCB = offlineEvaluate(mab, arms, rewards, contexts, 800)\n",
    "print('UCB average reward', np.mean(results_UCB))"
   ]
  },
  {
   "cell_type": "code",
   "execution_count": 1630,
   "metadata": {},
   "outputs": [
    {
     "name": "stdout",
     "output_type": "stream",
     "text": [
      "BetaThompson average reward 0.19\n"
     ]
    }
   ],
   "source": [
    "mab = BetaThompson(10, 1.0, 1.0)\n",
    "results_BetaThompson = offlineEvaluate(mab, arms, rewards, contexts, 800)\n",
    "print('BetaThompson average reward', np.mean(results_BetaThompson))"
   ]
  },
  {
   "cell_type": "markdown",
   "metadata": {},
   "source": [
    "## 4. Contextual Bandits - LinUCB"
   ]
  },
  {
   "cell_type": "code",
   "execution_count": 1692,
   "metadata": {},
   "outputs": [],
   "source": [
    "class LinUCB(MAB):\n",
    "    \"\"\"\n",
    "    Contextual multi-armed bandit (LinUCB)\n",
    "\n",
    "    Arguments\n",
    "    =========\n",
    "    narms : int\n",
    "        number of arms\n",
    "\n",
    "    ndims : int\n",
    "        number of dimensions for each arm's context\n",
    "\n",
    "    alpha : float\n",
    "        positive real explore-exploit parameter\n",
    "    \"\"\"\n",
    "    \n",
    "    def __init__(self, narms, ndims, alpha):\n",
    "        \n",
    "    #Input type and value check    \n",
    "        if not isinstance(narms,int):\n",
    "            raise TypeError(\"narms should be int\")\n",
    "        elif narms < 0:\n",
    "            raise ValueError(\"narms should be 0 or positive\")\n",
    "            \n",
    "        if not isinstance(ndims,int):\n",
    "            raise TypeError(\"ndims should be int\")\n",
    "        elif narms < 0:\n",
    "            raise ValueError(\"ndims should be 0 or positive\")\n",
    "            \n",
    "        if not isinstance(alpha,float): \n",
    "            raise TypeError(\"alpha should be float\")\n",
    "        elif   alpha <= 0:\n",
    "            raise ValueError(\"alpha should be positive real\")\n",
    "            \n",
    "    #Initialization of variables\n",
    "        self.alpha=alpha\n",
    "        self.narms =  narms\n",
    "        self.ndims = ndims \n",
    "        self.A  = np.zeros((narms, ndims,ndims)) #Initializing d by d matrix for contexts-A\n",
    "        self.b = np.zeros((narms, ndims,1)) #Initializing response vector for each arm with dim-d by 1\n",
    "        self.lin_Ucb = np.zeros(narms)\n",
    "        self.visited = []\n",
    "\n",
    "    def play(self, tround, context):    \n",
    "      #play arm with maximum linear estimate and explore boost value including contexts \n",
    "\n",
    "            for arm in range(self.narms):      \n",
    "                if arm not in self.visited:   #Set the context of each new arm to indentity matrix          \n",
    "                    \n",
    "                    self.A[arm] = np.identity(self.ndims)           \n",
    "                    self.visited.append(arm)\n",
    "                \n",
    "                context_arm = context[0+(arm*self.ndims):self.ndims+(arm*self.ndims)] #Extract context based on arm            \n",
    "       \n",
    "                A_Invere = np.linalg.inv(self.A[arm]) \n",
    "                theta = A_Inverse.dot(self.b[arm]) #Calculate Parameter value of arm\n",
    "                \n",
    "                lin_estimate = np.transpose(theta).dot(context_arm) #Estimate linear combination of parameters;\n",
    "                explore_boost = self.alpha * np.sqrt(np.transpose(context_arm).dot(A_Inverse).dot(context_arm)) #Explore based on explore_boost\n",
    "                self.lin_Ucb[arm] = lin_estimate + explore_boost #UCB; balance between explore and exploit using contexts \n",
    "         \n",
    "        #play arm with max linear ucb, if arm has minimum expected return but higher explore boost,it is selected for play\n",
    "            max_arm = np.argwhere(self.lin_Ucb == np.amax(self.lin_Ucb))        \n",
    "            arm = np.random.choice(max_arm.flatten().tolist())\n",
    "            return arm\n",
    "        \n",
    "    def update(self, arm, reward, context):\n",
    "    #Update the context and expected reward of the matched arm\n",
    "        context_played_arm = context[0+(arm*self.ndims):self.ndims+(arm*self.ndims)]\n",
    "        self.A[arm] = self.A[arm] + context_played_arm.dot(np.transpose(context_played_arm)) #Update feature matrix\n",
    "        self.b[arm] = self.b[arm] + reward*context_played_arm   #Update response vector\n",
    "        \n",
    "\n"
   ]
  },
  {
   "cell_type": "code",
   "execution_count": 1693,
   "metadata": {},
   "outputs": [
    {
     "name": "stdout",
     "output_type": "stream",
     "text": [
      "LinUCB average reward 0.53\n"
     ]
    }
   ],
   "source": [
    "mab = LinUCB(10, 10, 1.0)\n",
    "results_LinUCB = offlineEvaluate(mab, arms, rewards, contexts,800)\n",
    "print('LinUCB average reward', np.mean(results_LinUCB))"
   ]
  },
  {
   "cell_type": "markdown",
   "metadata": {},
   "source": [
    "## 5. Contextual Bandits - LinThompson"
   ]
  },
  {
   "cell_type": "code",
   "execution_count": 1699,
   "metadata": {},
   "outputs": [],
   "source": [
    "class LinThompson(MAB):\n",
    "    \"\"\"\n",
    "    Contextual Thompson sampled multi-armed bandit (LinThompson)\n",
    "\n",
    "    Arguments\n",
    "    =========\n",
    "    narms : int\n",
    "        number of arms\n",
    "\n",
    "    ndims : int\n",
    "        number of dimensions for each arm's context\n",
    "\n",
    "    v : float\n",
    "        positive real explore-exploit parameter\n",
    "    \"\"\"\n",
    "    \n",
    "    def __init__(self, narms, ndims, v):\n",
    "        \n",
    "     #Input type and value check    \n",
    "        if not isinstance(narms,int):\n",
    "            raise TypeError(\"narms should be int\")\n",
    "        elif narms < 0:\n",
    "            raise ValueError(\"narms should be 0 or positive\")\n",
    "            \n",
    "        if not isinstance(ndims,int):\n",
    "            raise TypeError(\"ndims should be int\")\n",
    "        elif narms < 0:\n",
    "            raise ValueError(\"ndims should be 0 or positive\")\n",
    "            \n",
    "        if not isinstance(v,float): \n",
    "            raise TypeError(\"v should be float\")\n",
    "        elif   v <= 0:\n",
    "            raise ValueError(\"v should be positive real\")\n",
    "            \n",
    "    #Initialisation of variables\n",
    "        self.narms=narms\n",
    "        self.ndims=ndims\n",
    "        self.B= np.identity(ndims) #Covariance matrix for multivariate normal-ndims by ndims\n",
    "        self.mu_hat = np.zeros(narms) #Mean vector for multivariate normal-ndims\n",
    "        self.f = np.zeros(narms)\n",
    "        self.v=v\n",
    "        self.linear_estimation = np.zeros(narms)\n",
    "            \n",
    "        \n",
    "    def play(self, tround, context):    \n",
    "    #Play arm with maximum linear estimate using normal distribution as prior\n",
    "    \n",
    "            # Prior for Sample mean from multivariate Gaussian likelihood\n",
    "            mu_estimation = np.random.multivariate_normal(self.mu_hat,(self.v**2)*np.linalg.inv(self.B)) \n",
    "                    \n",
    "            for arm in range(self.narms):\n",
    "                #Extract arm context for the round t-1\n",
    "                context_arm= context[0+(arm*self.ndims):self.ndims+(arm*self.ndims)] \n",
    "                \n",
    "                mu_estimation = mu_estimation.reshape(self.ndims,1)\n",
    "                \n",
    "                #Linear estimation of parameters for arms using mvn mean\n",
    "                self.linear_estimation[arm] = np.transpose(context_arm).dot(mu_estimation)\n",
    "\n",
    "           #Max arm based on linear estimation of parameters\n",
    "            max_arm = np.argwhere(self.linear_estimation == np.amax(self.linear_estimation))             \n",
    "            arm = np.random.choice(max_arm.flatten().tolist())\n",
    "            return arm\n",
    "    \n",
    "    def update(self, arm, reward, context):\n",
    "    #Update covariance and mean for matched arm\n",
    "    \n",
    "        context_played = context[0+(arm*self.ndims):self.ndims+(arm*self.ndims)]\n",
    "        self.B=self.B+context_played.dot(np.transpose(context_played)) #upate covariance matrix with context of matched arm\n",
    "        self.f = self.f.reshape(self.ndims,1)\n",
    "        self.f=self.f+context_played*reward #response vector  \n",
    "        self.mu_hat = np.linalg.inv(self.B).dot(self.f) #Update posterior Gaussian with matched arm's reward and context\n",
    "        self.mu_hat=self.mu_hat.flatten()   #Flat the array since mvn expects a 1D mean vector\n",
    "       \n",
    "        \n",
    "        \n"
   ]
  },
  {
   "cell_type": "code",
   "execution_count": 1700,
   "metadata": {},
   "outputs": [
    {
     "name": "stdout",
     "output_type": "stream",
     "text": [
      "LinThompson average reward 0.32625\n"
     ]
    }
   ],
   "source": [
    "mab = LinThompson(10, 10, 1.0)\n",
    "results_LinThompson = offlineEvaluate(mab, arms, rewards, contexts, 800)\n",
    "print('LinThompson average reward', np.mean(results_LinThompson))"
   ]
  },
  {
   "cell_type": "markdown",
   "metadata": {},
   "source": [
    "## 6. Evaluation\n",
    "### 6.A."
   ]
  },
  {
   "cell_type": "code",
   "execution_count": 1716,
   "metadata": {},
   "outputs": [
    {
     "data": {
      "image/png": "[encoded data removed]",
      "text/plain": [
       "<Figure size 432x288 with 1 Axes>"
      ]
     },
     "metadata": {
      "needs_background": "light"
     },
     "output_type": "display_data"
    },
    {
     "name": "stdout",
     "output_type": "stream",
     "text": [
      "From the plot it can be seen that LinUCB has the highest expected reward, followed by LinThompson. Hence, features are substantial in playing an arm. For context-free bandits, Beta Thompson has the highest  expected reward compared to UCB and Epsilon Greedy\n"
     ]
    }
   ],
   "source": [
    "#Plot for bandits- cumulative reward vs nrounds\n",
    "\n",
    "#1.Epsilon Greedy\n",
    "mab = EpsGreedy(10, 0.05)\n",
    "results_EpsGreedy = offlineEvaluate(mab, arms, rewards, contexts, 800)\n",
    "plt.plot(np.cumsum(results_EpsGreedy),label='Epsilon Greedy')\n",
    "\n",
    "#2.UCB\n",
    "mab = UCB(10, 1.0)\n",
    "results_UCB = offlineEvaluate(mab, arms, rewards, contexts, 800)\n",
    "plt.plot(np.cumsum(results_UCB),label='UCB')\n",
    "\n",
    "#3.Beta Thompson\n",
    "mab = BetaThompson(10, 1.0, 1.0)\n",
    "results_BetaThompson = offlineEvaluate(mab, arms, rewards, contexts, 800)\n",
    "plt.plot(np.cumsum(results_BetaThompson),label='Beta Thompson')\n",
    "\n",
    "#4.Linear UCB\n",
    "mab = LinUCB(10, 10, 1.0)\n",
    "results_LinUCB = offlineEvaluate(mab, arms, rewards, contexts,800)\n",
    "plt.plot(np.cumsum(results_LinUCB),label='LinUCB')\n",
    "\n",
    "#5.Linear Thompson\n",
    "mab = LinThompson(10, 10, 1.0)\n",
    "results_LinThompson = offlineEvaluate(mab, arms, rewards, contexts, 800)\n",
    "plt.plot(np.cumsum(results_LinThompson),label='LinThompson')\n",
    "\n",
    "plt.legend()\n",
    "plt.ylabel('cumulative reward')\n",
    "plt.xlabel('nrounds')\n",
    "plt.title('Multi-Armed Bandits')\n",
    "plt.show()\n",
    "\n",
    "Comment = \"\"\"From the plot it can be seen that LinUCB has the highest expected reward, followed by LinThompson.\\\n",
    " Hence, features are substantial in playing an arm. For context-free bandits, Beta Thompson has the highest \\\n",
    " expected reward compared to UCB and Epsilon Greedy\"\"\"\n",
    "\n",
    "print(Comment)\n",
    "    \n",
    "\n",
    "\n",
    "\n",
    "\n",
    "\n"
   ]
  },
  {
   "cell_type": "markdown",
   "metadata": {},
   "source": [
    "### 6.B."
   ]
  },
  {
   "cell_type": "code",
   "execution_count": 1714,
   "metadata": {},
   "outputs": [
    {
     "data": {
      "image/png": "[encoded data removed]",
      "text/plain": [
       "<Figure size 432x288 with 1 Axes>"
      ]
     },
     "metadata": {
      "needs_background": "light"
     },
     "output_type": "display_data"
    },
    {
     "name": "stdout",
     "output_type": "stream",
     "text": [
      "In LinUCB, it can be seen that, smaller the alpha value greater is the expected reward\n"
     ]
    },
    {
     "data": {
      "image/png": "[encoded data removed]",
      "text/plain": [
       "<Figure size 432x288 with 1 Axes>"
      ]
     },
     "metadata": {
      "needs_background": "light"
     },
     "output_type": "display_data"
    },
    {
     "name": "stdout",
     "output_type": "stream",
     "text": [
      "In LinThompson, it can be seen that,value of V does not have a substantial impact on the expected reward\n"
     ]
    }
   ],
   "source": [
    "a = np.linspace(0.1, 5.0, num=5)\n",
    "for i in range(len(a)):\n",
    "    mab = LinUCB(10, 10,a[i] )\n",
    "    results_LinUCB = offlineEvaluate(mab, arms, rewards, contexts,800)\n",
    "    plt.plot(np.cumsum(results_LinUCB),label='aplha-%.2f,mean-%.2f'%(a[i],np.mean(results_LinUCB)))\n",
    "    \n",
    "plt.ylabel('cumulative reward')\n",
    "plt.xlabel('nrounds')\n",
    "plt.title('GridSearch-alpha-LinUCB')   \n",
    "plt.legend()\n",
    "plt.show()\n",
    "\n",
    "print(\"In LinUCB, it can be seen that smaller the alpha value greater is the expected reward\")\n",
    "\n",
    "a = np.linspace(0.1, 30, num=5)\n",
    "for i in range(len(a)):\n",
    "    mab = LinThompson(10, 10, 0.1)\n",
    "    results_LinThompson = offlineEvaluate(mab, arms, rewards, contexts, 800)\n",
    "    plt.plot(np.cumsum(results_LinThompson),label='v-%.2f,mean-%.2f'%(a[i],np.mean(results_LinThompson)))\n",
    "    \n",
    "plt.ylabel('cumulative reward')\n",
    "plt.xlabel('nrounds')\n",
    "plt.title('GridSearch-v-LinThompson')   \n",
    "plt.legend()\n",
    "plt.show()\n",
    "\n",
    "print(\"In LinThompson, it can be seen that value of V does not have a substantial impact on the expected reward\")\n"
   ]
  }
 ],
 "metadata": {
  "kernelspec": {
   "display_name": "Python 3",
   "language": "python",
   "name": "python3"
  },
  "language_info": {
   "codemirror_mode": {
    "name": "ipython",
    "version": 3
   },
   "file_extension": ".py",
   "mimetype": "text/x-python",
   "name": "python",
   "nbconvert_exporter": "python",
   "pygments_lexer": "ipython3",
   "version": "3.7.3"
  }
 },
 "nbformat": 4,
 "nbformat_minor": 2
}
